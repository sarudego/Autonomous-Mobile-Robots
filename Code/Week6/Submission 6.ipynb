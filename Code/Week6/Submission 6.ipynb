{
 "cells": [
  {
   "cell_type": "markdown",
   "metadata": {},
   "source": [
    "## Ball Picking Challenge\n",
    "\n",
    "### Part 2: Pick and Place\n",
    "\n",
    "The aim is to program the robot for the second part of the challenge: pick up the balls and transport them to the corner. To do so, you need to reuse the abilities learnt in week 4; please feel free to reuse the code of those notebooks and exercises."
   ]
  },
  {
   "cell_type": "code",
   "execution_count": 76,
   "metadata": {
    "collapsed": false
   },
   "outputs": [
    {
     "name": "stdout",
     "output_type": "stream",
     "text": [
      "Found ROS controller /pioneer3dx_13202_ip_172_31_47_3\n"
     ]
    }
   ],
   "source": [
    "import packages.initialization\n",
    "import packages.pioneer3dx as p3dx\n",
    "import time\n",
    "import matplotlib.pyplot as plt\n",
    "%matplotlib inline\n",
    "import cv2\n",
    "import numpy \n",
    "p3dx.init()\n",
    "time.sleep(2)"
   ]
  },
  {
   "cell_type": "code",
   "execution_count": 77,
   "metadata": {
    "collapsed": false
   },
   "outputs": [],
   "source": [
    "lower_blue = numpy.array([100,  50,  50])\n",
    "upper_blue = numpy.array([130, 255, 255])\n",
    "lower_red = numpy.array([ 170, 100, 50])\n",
    "upper_red = numpy.array([ 220, 255, 255])\n",
    "params = cv2.SimpleBlobDetector_Params()\n",
    "params.filterByArea = True\n",
    "params.minArea = 5\n",
    "detector = cv2.SimpleBlobDetector(params)"
   ]
  },
  {
   "cell_type": "code",
   "execution_count": 78,
   "metadata": {
    "collapsed": false
   },
   "outputs": [],
   "source": [
    "def blue_balls():\n",
    "    hsv = cv2.cvtColor(p3dx.image, cv2.COLOR_RGB2HSV)\n",
    "    mask = cv2.inRange(hsv, lower_blue, upper_blue)\n",
    "    reversemask = 255-mask\n",
    "    keypoints = detector.detect(reversemask)\n",
    "    l = []\n",
    "    for i,kp in enumerate(keypoints):\n",
    "        l.append((kp.size,) + kp.pt)\n",
    "    l.sort(key=lambda tup: tup[0], reverse=True)\n",
    "    return l"
   ]
  },
  {
   "cell_type": "code",
   "execution_count": 79,
   "metadata": {
    "collapsed": false
   },
   "outputs": [],
   "source": [
    "def is_ball_centered():\n",
    "    b = blue_balls()\n",
    "    diametre = 0\n",
    "    while not b:\n",
    "        p3dx.move(-0.2,0.2)\n",
    "        b = blue_balls()\n",
    "    for ball in b:\n",
    "        if ball[0] > diametre:\n",
    "            diametre = ball[0]\n",
    "            cx = b[0][1]\n",
    "    if cx >= 70 and cx < 80:\n",
    "        return True\n",
    "    else:\n",
    "        return False"
   ]
  },
  {
   "cell_type": "code",
   "execution_count": 80,
   "metadata": {
    "collapsed": false
   },
   "outputs": [],
   "source": [
    "def is_ball_close():\n",
    "    b = blue_balls()\n",
    "    cx = 0\n",
    "    cy = 0\n",
    "    revers = 1\n",
    "    diametre = 0\n",
    "    while not b:\n",
    "        p3dx.move(-0.1,0.1)\n",
    "        b = blue_balls()\n",
    "    for ball in b:\n",
    "        if ball[2] > cy:\n",
    "            diametre = ball[0]\n",
    "            cy = ball[2]\n",
    "            cx = ball[1]\n",
    "    if cx > 90 or cx < 60:\n",
    "        print 'ball not in the center'\n",
    "        if cx > 80:\n",
    "            revers = -1\n",
    "        while not is_ball_centered():\n",
    "            p3dx.move(-0.1 * revers,0.1 * revers)\n",
    "    if cy + diametre/2 >= 80:\n",
    "        return True\n",
    "    else:\n",
    "        return False"
   ]
  },
  {
   "cell_type": "code",
   "execution_count": 81,
   "metadata": {
    "collapsed": true
   },
   "outputs": [],
   "source": [
    "def color_blob():\n",
    "    hsv = cv2.cvtColor(p3dx.image, cv2.COLOR_RGB2HSV)\n",
    "    mask = cv2.inRange(hsv, lower_red, upper_red)\n",
    "    M = cv2.moments(mask)\n",
    "    area = M['m00']\n",
    "    if area > 0:\n",
    "        cx = int(M['m10']/area)\n",
    "        cy = int(M['m01']/area)\n",
    "    else:\n",
    "        cx = None\n",
    "        cy = None\n",
    "    return area, cx, cy"
   ]
  },
  {
   "cell_type": "code",
   "execution_count": 82,
   "metadata": {
    "collapsed": true
   },
   "outputs": [],
   "source": [
    "def is_blob_centered():\n",
    "    area, cx, cy = color_blob()\n",
    "    if area > 0 and cx >= 70 and cx < 80:\n",
    "        return True\n",
    "    else:\n",
    "        return False"
   ]
  },
  {
   "cell_type": "code",
   "execution_count": 83,
   "metadata": {
    "collapsed": true
   },
   "outputs": [],
   "source": [
    "def is_blob_close():\n",
    "    area, cx, cy = color_blob()\n",
    "    if area > 0 and cy >= 70:\n",
    "        return True\n",
    "    else:\n",
    "        return False"
   ]
  },
  {
   "cell_type": "code",
   "execution_count": 84,
   "metadata": {
    "collapsed": false
   },
   "outputs": [],
   "source": [
    "def picking_ball():\n",
    "    p3dx.tilt(-0.2)\n",
    "    time.sleep(1)\n",
    "    print 'centring the ball'\n",
    "    while not is_ball_centered():\n",
    "        p3dx.move(-0.5,0.5)\n",
    "    p3dx.move(0,0)\n",
    "    print 'going to the ball'\n",
    "    while not is_ball_close():\n",
    "        p3dx.move(2.0,2.0)\n",
    "    p3dx.move(0.0,0.0)\n",
    "    print 'openning the gripper'\n",
    "    p3dx.tilt(-0.47)\n",
    "    p3dx.gripper(0.05,1.0)\n",
    "    time.sleep(1)\n",
    "    print 'going to the ball slowly'\n",
    "    while not is_ball_close():\n",
    "        p3dx.move(0.5,0.5)\n",
    "    print 'picking the ball'\n",
    "    p3dx.move(0.5,0.5)\n",
    "    time.sleep(3.5)\n",
    "    p3dx.move(0,0)\n",
    "    p3dx.gripper(0.05,0.0)\n",
    "    time.sleep(1)\n",
    "    p3dx.gripper(-0.05,0.0)\n",
    "    time.sleep(1)"
   ]
  },
  {
   "cell_type": "code",
   "execution_count": 85,
   "metadata": {
    "collapsed": false
   },
   "outputs": [],
   "source": [
    "def go_to_red():\n",
    "    p3dx.tilt(-0.1)\n",
    "    print 'finding the red area'\n",
    "    while not is_blob_centered():\n",
    "        p3dx.move(-0.5, 0.5)\n",
    "    print 'going to the red area'\n",
    "    while not is_blob_close():\n",
    "        p3dx.move(2.0,2.0)\n",
    "        area, cx = blue_ball_in_way()\n",
    "        if area > 0:\n",
    "            print \"ball in the way!!\"\n",
    "            print cx\n",
    "            avoid_ball(cx)\n",
    "    p3dx.move(0.5, 0.5)\n",
    "    p3dx.tilt(-0.22)\n",
    "    time.sleep(1)\n",
    "    print 'going to the red area slowly'\n",
    "    while not is_blob_close():\n",
    "        p3dx.move(0.5, 0.5)\n",
    "    p3dx.move(0,0)"
   ]
  },
  {
   "cell_type": "code",
   "execution_count": 86,
   "metadata": {
    "collapsed": true
   },
   "outputs": [],
   "source": [
    "def lose_ball():\n",
    "    p3dx.gripper(0.05,0.0)\n",
    "    time.sleep(1)\n",
    "    p3dx.gripper(0.05,1.0)\n",
    "    time.sleep(1)\n",
    "    p3dx.move(-2,-2)\n",
    "    time.sleep(2)\n",
    "    p3dx.move(0,0)\n",
    "    p3dx.tilt(-0.3)\n",
    "    time.sleep(1)\n",
    "    p3dx.move(-1.0,1.0)\n",
    "    time.sleep(3)\n",
    "    p3dx.move(-0.5,0.5)"
   ]
  },
  {
   "cell_type": "code",
   "execution_count": 87,
   "metadata": {
    "collapsed": true
   },
   "outputs": [],
   "source": [
    "def check_ball():\n",
    "    p3dx.tilt(-0.47)\n",
    "    time.sleep(1)\n",
    "    hsv = cv2.cvtColor(p3dx.image, cv2.COLOR_RGB2HSV)\n",
    "    mask = cv2.inRange(hsv, lower_blue, upper_blue)\n",
    "    #print mask[70:80,70:80]\n",
    "    return True if mask[70:80,70:80].any() > 0 else False"
   ]
  },
  {
   "cell_type": "code",
   "execution_count": 88,
   "metadata": {
    "collapsed": true
   },
   "outputs": [],
   "source": [
    "def blue_ball_in_way():\n",
    "    hsv = cv2.cvtColor(p3dx.image, cv2.COLOR_RGB2HSV)\n",
    "    mask = cv2.inRange(hsv, lower_blue, upper_blue)\n",
    "    mask[0:90, 0:150] = 0\n",
    "    mask[90:100, 0:50] = 0\n",
    "    mask[90:100, 100:150] = 0\n",
    "    M = cv2.moments(mask)\n",
    "    area = M['m00']\n",
    "    if area > 0:\n",
    "        cx = int(M['m10']/area)\n",
    "    else:\n",
    "        cx = None\n",
    "    return area, cx"
   ]
  },
  {
   "cell_type": "code",
   "execution_count": 89,
   "metadata": {
    "collapsed": true
   },
   "outputs": [],
   "source": [
    "def avoid_ball(cx):\n",
    "    print \"avoiding ball\"\n",
    "    p3dx.move(0.5, 0.5)\n",
    "    time.sleep(8)\n",
    "    if cx > 75:\n",
    "        p3dx.move(-0.5, 0.5)\n",
    "        time.sleep(4)\n",
    "        p3dx.move(1.6, 0.7)\n",
    "        time.sleep(9)\n",
    "        while not is_blob_centered():\n",
    "                p3dx.move(-0.5, 0.5)\n",
    "    else:\n",
    "        p3dx.move(0.5, -0.5)\n",
    "        time.sleep(4)\n",
    "        p3dx.move(0.7, 1.6)\n",
    "        time.sleep(9)\n",
    "        while not is_blob_centered():\n",
    "                p3dx.move(0.5, -0.5)\n",
    "    p3dx.move(0, 0)"
   ]
  },
  {
   "cell_type": "code",
   "execution_count": 90,
   "metadata": {
    "collapsed": false,
    "scrolled": true
   },
   "outputs": [
    {
     "name": "stdout",
     "output_type": "stream",
     "text": [
      "centring the ball\n",
      "going to the ball\n",
      "openning the gripper\n",
      "going to the ball slowly\n",
      "picking the ball\n",
      "finding the red area\n",
      "going to the red area\n",
      "ball in the way!!\n",
      "52\n",
      "avoiding ball\n",
      "going to the red area slowly\n",
      "1\n",
      "centring the ball\n",
      "going to the ball\n",
      "ball not in the center\n",
      "openning the gripper\n",
      "going to the ball slowly\n",
      "picking the ball\n",
      "finding the red area\n",
      "going to the red area\n",
      "going to the red area slowly\n",
      "2\n",
      "centring the ball\n",
      "going to the ball\n",
      "openning the gripper\n",
      "going to the ball slowly\n",
      "picking the ball\n",
      "finding the red area\n",
      "going to the red area\n",
      "going to the red area slowly\n",
      "3\n",
      "centring the ball\n",
      "going to the ball\n",
      "openning the gripper\n",
      "going to the ball slowly\n",
      "picking the ball\n",
      "finding the red area\n",
      "going to the red area\n",
      "going to the red area slowly\n",
      "4\n",
      "centring the ball\n",
      "going to the ball\n",
      "openning the gripper\n",
      "going to the ball slowly\n",
      "picking the ball\n",
      "finding the red area\n",
      "going to the red area\n",
      "going to the red area slowly\n",
      "5\n",
      "FINALY DONE\n"
     ]
    }
   ],
   "source": [
    "try:     \n",
    "    transfared_ball = 0\n",
    "    while transfared_ball < 5:\n",
    "        while not check_ball():\n",
    "            picking_ball()\n",
    "        go_to_red()\n",
    "        if check_ball():\n",
    "            lose_ball()\n",
    "            transfared_ball += 1\n",
    "            print transfared_ball\n",
    "    p3dx.move(0,0)\n",
    "    print \"FINALY DONE\"\n",
    "except KeyboardInterrupt:\n",
    "    p3dx.stop()"
   ]
  },
  {
   "cell_type": "markdown",
   "metadata": {},
   "source": [
    "---\n",
    "#### Try-a-Bot: an open source guide for robot programming\n",
    "Developed by:\n",
    "[![Robotic Intelligence Lab @ UJI](img/logo/robinlab.png \"Robotic Intelligence Lab @ UJI\")](http://robinlab.uji.es)\n",
    "\n",
    "Sponsored by:\n",
    "<table>\n",
    "<tr>\n",
    "<td style=\"border:1px solid #ffffff ;\">\n",
    "<a href=\"http://www.ieee-ras.org\"><img src=\"img/logo/ras.png\"></a>\n",
    "</td>\n",
    "<td style=\"border:1px solid #ffffff ;\">\n",
    "<a href=\"http://www.cyberbotics.com\"><img src=\"img/logo/cyberbotics.png\"></a>\n",
    "</td>\n",
    "<td style=\"border:1px solid #ffffff ;\">\n",
    "<a href=\"http://www.theconstructsim.com\"><img src=\"img/logo/theconstruct.png\"></a>\n",
    "</td>\n",
    "</tr>\n",
    "</table>\n",
    "\n",
    "Follow us:\n",
    "<table>\n",
    "<tr>\n",
    "<td style=\"border:1px solid #ffffff ;\">\n",
    "<a href=\"https://www.facebook.com/RobotProgrammingNetwork\"><img src=\"img/logo/facebook.png\"></a>\n",
    "</td>\n",
    "<td style=\"border:1px solid #ffffff ;\">\n",
    "<a href=\"https://www.youtube.com/user/robotprogrammingnet\"><img src=\"img/logo/youtube.png\"></a>\n",
    "</td>\n",
    "</tr>\n",
    "</table>"
   ]
  }
 ],
 "metadata": {
  "kernelspec": {
   "display_name": "Python 2",
   "language": "python",
   "name": "python2"
  },
  "language_info": {
   "codemirror_mode": {
    "name": "ipython",
    "version": 2
   },
   "file_extension": ".py",
   "mimetype": "text/x-python",
   "name": "python",
   "nbconvert_exporter": "python",
   "pygments_lexer": "ipython2",
   "version": "2.7.11"
  }
 },
 "nbformat": 4,
 "nbformat_minor": 0
}
