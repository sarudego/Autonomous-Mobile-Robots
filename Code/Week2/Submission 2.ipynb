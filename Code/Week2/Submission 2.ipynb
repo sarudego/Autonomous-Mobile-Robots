{
 "cells": [
  {
   "cell_type": "markdown",
   "metadata": {},
   "source": [
    "<img align=\"right\" src=\"img/wandering.png\" />\n",
    "# Wandering\n",
    "\n",
    "A simple wandering behavior can be achieved by the combination of the previously coded exercises: \n",
    "\n",
    "    repeat forever\n",
    "      move forward until an obstacle is detected\n",
    "      turn either left or right for free space\n",
    "      \n",
    "Instead of starting from scratch, you will reuse the code in two Python functions, which can be called from inside the main loop."
   ]
  },
  {
   "cell_type": "code",
   "execution_count": 265,
   "metadata": {
    "collapsed": false
   },
   "outputs": [],
   "source": [
    "import packages.initialization\n",
    "import pioneer3dx as p3dx\n",
    "p3dx.init()\n"
   ]
  },
  {
   "cell_type": "markdown",
   "metadata": {},
   "source": [
    "First, you need to copy and paste the code inside the following functions:"
   ]
  },
  {
   "cell_type": "code",
   "execution_count": 266,
   "metadata": {
    "collapsed": false
   },
   "outputs": [],
   "source": [
    "def forward():\n",
    "    min_dist = 1.5\n",
    "    sensor3 = p3dx.distance[3]\n",
    "    sensor4 = p3dx.distance[4]\n",
    "    while sensor3 > min_dist and sensor4 > min_dist:\n",
    "        if sensor3 > 1 and sensor4 > 1:\n",
    "            speed = 5\n",
    "        else:\n",
    "            speed = 1\n",
    "        p3dx.move(speed,speed)\n",
    "        sensor3 = p3dx.distance[3]\n",
    "        sensor4 = p3dx.distance[4]\n",
    "p3dx.stop()\n"
   ]
  },
  {
   "cell_type": "code",
   "execution_count": 267,
   "metadata": {
    "collapsed": false
   },
   "outputs": [],
   "source": [
    "# Note: in the first lap, the robot goes crazy and the second corner during a few seconds, next times works fine\n",
    "def turn():\n",
    "    min_dist = 1.2\n",
    "    lMin = min(p3dx.distance[0:2])\n",
    "    rMin = min(p3dx.distance[6:])\n",
    "    sensor3 = p3dx.distance[3]\n",
    "    sensor4 = p3dx.distance[4]\n",
    "    if lMin > rMin:\n",
    "        while sensor3 < min_dist and sensor4 < min_dist:\n",
    "            p3dx.move(-1.5,1.5)\n",
    "            sensor3 = p3dx.distance[3]\n",
    "            sensor4 = p3dx.distance[4]\n",
    "    else:\n",
    "        while sensor3 < min_dist and sensor4 < min_dist:\n",
    "            p3dx.move(1.5,-1.5)\n",
    "            sensor3 = p3dx.distance[3]\n",
    "            sensor4 = p3dx.distance[4]     \n",
    "p3dx.stop()\n",
    "\n"
   ]
  },
  {
   "cell_type": "markdown",
   "metadata": {},
   "source": [
    "<img align=\"right\" src=\"img/interrupt.png\" />\n",
    "Finally, you should run the main loop in the following cell.\n",
    "\n",
    "The execution can be stopped at any time by pressing the *interrupt kernel* button."
   ]
  },
  {
   "cell_type": "code",
   "execution_count": 268,
   "metadata": {
    "collapsed": false
   },
   "outputs": [],
   "source": [
    "try:\n",
    "    while True:\n",
    "        forward()\n",
    "        turn()\n",
    "except KeyboardInterrupt:\n",
    "    p3dx.stop()"
   ]
  },
  {
   "cell_type": "markdown",
   "metadata": {},
   "source": [
    "The resulting trajectory can be plotted."
   ]
  },
  {
   "cell_type": "code",
   "execution_count": 148,
   "metadata": {
    "collapsed": false
   },
   "outputs": [],
   "source": [
    "%matplotlib inline\n",
    "import trajectory\n"
   ]
  },
  {
   "cell_type": "code",
   "execution_count": 149,
   "metadata": {
    "collapsed": false
   },
   "outputs": [
    {
     "data": {
      "image/png": "[encoded data removed]",
      "text/plain": [
       "<matplotlib.figure.Figure at 0x7fedef61d590>"
      ]
     },
     "metadata": {},
     "output_type": "display_data"
    }
   ],
   "source": [
    "trajectory.plot()"
   ]
  },
  {
   "cell_type": "code",
   "execution_count": 66,
   "metadata": {
    "collapsed": false
   },
   "outputs": [
    {
     "name": "stdout",
     "output_type": "stream",
     "text": [
      "Sensor 0 is 2.675\n",
      "Sensor 1 is 5.111\n",
      "Sensor 2 is 2.379\n",
      "Sensor 3 is 3.875\n",
      "Sensor 4 is 3.931\n",
      "Sensor 5 is 4.550\n",
      "Sensor 6 is 1.416\n",
      "Sensor 7 is 3.878\n",
      "2.37865710258\n",
      "1.41582465172\n"
     ]
    }
   ],
   "source": [
    "for i in range (8):\n",
    "    print(\"Sensor %d is %.3f\"% (i, p3dx.distance[i]))\n",
    "lMin = min(p3dx.distance[0:3])\n",
    "rMin = min(p3dx.distance[5:])\n",
    "print(lMin)\n",
    "print(rMin)"
   ]
  },
  {
   "cell_type": "markdown",
   "metadata": {},
   "source": [
    "Next application: [wall following](Wall%20Following.ipynb)."
   ]
  },
  {
   "cell_type": "markdown",
   "metadata": {
    "collapsed": true
   },
   "source": [
    "---\n",
    "#### Try-a-Bot: an open source guide for robot programming\n",
    "Developed by:\n",
    "[![Robotic Intelligence Lab @ UJI](img/logo/robinlab.png \"Robotic Intelligence Lab @ UJI\")](http://robinlab.uji.es)\n",
    "\n",
    "Sponsored by:\n",
    "<table>\n",
    "<tr>\n",
    "<td style=\"border:1px solid #ffffff ;\">\n",
    "<a href=\"http://www.ieee-ras.org\"><img src=\"img/logo/ras.png\"></a>\n",
    "</td>\n",
    "<td style=\"border:1px solid #ffffff ;\">\n",
    "<a href=\"http://www.cyberbotics.com\"><img src=\"img/logo/cyberbotics.png\"></a>\n",
    "</td>\n",
    "<td style=\"border:1px solid #ffffff ;\">\n",
    "<a href=\"http://www.theconstructsim.com\"><img src=\"img/logo/theconstruct.png\"></a>\n",
    "</td>\n",
    "</tr>\n",
    "</table>\n",
    "\n",
    "Follow us:\n",
    "<table>\n",
    "<tr>\n",
    "<td style=\"border:1px solid #ffffff ;\">\n",
    "<a href=\"https://www.facebook.com/RobotProgrammingNetwork\"><img src=\"img/logo/facebook.png\"></a>\n",
    "</td>\n",
    "<td style=\"border:1px solid #ffffff ;\">\n",
    "<a href=\"https://www.youtube.com/user/robotprogrammingnet\"><img src=\"img/logo/youtube.png\"></a>\n",
    "</td>\n",
    "</tr>\n",
    "</table>\n"
   ]
  }
 ],
 "metadata": {
  "kernelspec": {
   "display_name": "Python 2",
   "language": "python",
   "name": "python2"
  },
  "language_info": {
   "codemirror_mode": {
    "name": "ipython",
    "version": 2
   },
   "file_extension": ".py",
   "mimetype": "text/x-python",
   "name": "python",
   "nbconvert_exporter": "python",
   "pygments_lexer": "ipython2",
   "version": "2.7.11"
  }
 },
 "nbformat": 4,
 "nbformat_minor": 0
}
