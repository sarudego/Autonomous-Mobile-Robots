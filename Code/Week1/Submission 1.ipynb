{
 "cells": [
  {
   "cell_type": "code",
   "execution_count": 1,
   "metadata": {
    "collapsed": true
   },
   "outputs": [],
   "source": [
    "import packages.initialization\n",
    "import pioneer3dx as p3dx\n",
    "p3dx.init()"
   ]
  },
  {
   "cell_type": "code",
   "execution_count": null,
   "metadata": {
    "collapsed": true
   },
   "outputs": [],
   "source": []
  },
  {
   "cell_type": "code",
   "execution_count": null,
   "metadata": {
    "collapsed": true
   },
   "outputs": [],
   "source": []
  },
  {
   "cell_type": "code",
   "execution_count": 2,
   "metadata": {
    "collapsed": false
   },
   "outputs": [],
   "source": [
    "def forward():\n",
    "    # copy and paste your code here   \n",
    "    target = 2        # target distance\n",
    "    radius = 0.09765      # wheel radius\n",
    "    initialEncoder = p3dx.leftEncoder\n",
    "    distance = 0\n",
    "    while distance < target:\n",
    "        p3dx.move(2.5,2.5)\n",
    "        angle = p3dx.leftEncoder - initialEncoder\n",
    "        distance = angle * radius\n",
    "    p3dx.stop()\n"
   ]
  },
  {
   "cell_type": "code",
   "execution_count": 3,
   "metadata": {
    "collapsed": false
   },
   "outputs": [],
   "source": [
    "def turn():\n",
    "    # copy and paste your code here\n",
    "    target = 1.57\n",
    "    #target = 0.7854      # target angle in radians\n",
    "    r = 0.09765            # wheel radius\n",
    "    L = 0.33          # axis length\n",
    "    initialEncoder = p3dx.leftEncoder\n",
    "    robotAngle = 0\n",
    "    while robotAngle < target:\n",
    "        p3dx.move(1.0,-1.0)\n",
    "        wheelAngle = p3dx.leftEncoder - initialEncoder\n",
    "        robotAngle = 2*(wheelAngle*r)/L\n",
    "    p3dx.stop()"
   ]
  },
  {
   "cell_type": "code",
   "execution_count": 4,
   "metadata": {
    "collapsed": false
   },
   "outputs": [
    {
     "name": "stdout",
     "output_type": "stream",
     "text": [
      "Pose of the robot at the start\n",
      "x:   0.00\n",
      "y:   0.00\n",
      "th: -1.57\n",
      "Pose of the robot at the end\n",
      "x:   0.11\n",
      "y:  -0.03\n",
      "th: -1.64\n"
     ]
    }
   ],
   "source": [
    "print('Pose of the robot at the start')\n",
    "p3dx.pose()\n",
    "for _ in range(4):\n",
    "    forward()\n",
    "    turn()\n",
    "print('Pose of the robot at the end')\n",
    "p3dx.pose()"
   ]
  },
  {
   "cell_type": "code",
   "execution_count": 5,
   "metadata": {
    "collapsed": false
   },
   "outputs": [
    {
     "data": {
      "image/png": "[encoded data removed]",
      "text/plain": [
       "<matplotlib.figure.Figure at 0x7ffad5b884d0>"
      ]
     },
     "metadata": {},
     "output_type": "display_data"
    }
   ],
   "source": [
    "%matplotlib inline                \n",
    "import matplotlib.pyplot as plt   # WARNING: the first time, this import can take up to 30 seconds\n",
    "x, y = p3dx.trajectory()          # because of font cache building, please be patient and wait\n",
    "plt.plot(x,y);"
   ]
  },
  {
   "cell_type": "code",
   "execution_count": null,
   "metadata": {
    "collapsed": false,
    "scrolled": true
   },
   "outputs": [],
   "source": [
    "def move(V_robot, w_robot):\n",
    "    w_r = (2*V_robot + L*w_robot)/2*r\n",
    "    w_l = (2*V_robot - L*w_robot)/2*r\n",
    "    p3dx.move(w_r, w_l)"
   ]
  },
  {
   "cell_type": "code",
   "execution_count": null,
   "metadata": {
    "collapsed": false
   },
   "outputs": [],
   "source": [
    "move(3, 3)"
   ]
  },
  {
   "cell_type": "code",
   "execution_count": null,
   "metadata": {
    "collapsed": true
   },
   "outputs": [],
   "source": []
  }
 ],
 "metadata": {
  "kernelspec": {
   "display_name": "Python 2",
   "language": "python",
   "name": "python2"
  },
  "language_info": {
   "codemirror_mode": {
    "name": "ipython",
    "version": 2
   },
   "file_extension": ".py",
   "mimetype": "text/x-python",
   "name": "python",
   "nbconvert_exporter": "python",
   "pygments_lexer": "ipython2",
   "version": "2.7.11"
  }
 },
 "nbformat": 4,
 "nbformat_minor": 0
}
