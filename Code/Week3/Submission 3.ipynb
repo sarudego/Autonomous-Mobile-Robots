{
 "cells": [
  {
   "cell_type": "markdown",
   "metadata": {},
   "source": [
    "## Line Following with Obstacle Avoidance\n",
    "\n",
    "The final task of this week is a combination of the line following, obstacle detection, and wall following behaviors.\n",
    "\n",
    "The robot should follow the line until an obstacle is detected in its path. Then, the robot will turn right and follow the wall at its right until the line is detected again, and it will resume the line following behavior.\n",
    "\n",
    "Please watch the following demo video:"
   ]
  },
  {
   "cell_type": "code",
   "execution_count": null,
   "metadata": {
    "collapsed": false
   },
   "outputs": [],
   "source": [
    "#from IPython.display import YouTubeVideo\n",
    "#YouTubeVideo('Jd1jpt3pgc8')"
   ]
  },
  {
   "cell_type": "markdown",
   "metadata": {},
   "source": [
    "This is the most complex task that we have programmed so far, thus it is a nice candidate for developing with the so-called [**top-down** approach](https://en.wikipedia.org/wiki/Top-down_and_bottom-up_design). With this methodology, we start with a high-level algorithm, and break it down into its components:\n",
    "\n",
    "    repeat forever\n",
    "        follow line until an obstacle is detected\n",
    "        get close to the wall\n",
    "        follow wall until a line is detected\n",
    "        get close to the line"
   ]
  },
  {
   "cell_type": "markdown",
   "metadata": {},
   "source": [
    "### Initialization\n",
    "First, we need to import all the required modules."
   ]
  },
  {
   "cell_type": "code",
   "execution_count": null,
   "metadata": {
    "collapsed": false
   },
   "outputs": [],
   "source": [
    "import packages.initialization\n",
    "import pioneer3dx as p3dx\n",
    "p3dx.init()\n",
    "import cv2\n",
    "import numpy\n",
    "%matplotlib inline\n",
    "import matplotlib.pyplot as plt"
   ]
  },
  {
   "cell_type": "code",
   "execution_count": null,
   "metadata": {
    "collapsed": false
   },
   "outputs": [],
   "source": [
    "DEF_X_SPEED = 0.2       # default forward velocity\n",
    "DEF_YAW_SPEED = 0.15    # default turning velocity\n",
    "\n",
    "hsv = cv2.cvtColor(p3dx.image, cv2.COLOR_RGB2HSV)\n",
    "lower_cyan = numpy.array([80, 100, 100])\n",
    "upper_cyan = numpy.array([100, 255, 255])\n",
    "mask = cv2.inRange(hsv, lower_cyan, upper_cyan)\n",
    "plt.imshow(mask,cmap='gray');\n",
    "mask[0:80, 0:150] = 0\n",
    "M = cv2.moments(mask)"
   ]
  },
  {
   "cell_type": "markdown",
   "metadata": {},
   "source": [
    "### Component functions\n",
    "The first function must return `True` if an obstacle is detected in front of the robot, or `False` otherwise."
   ]
  },
  {
   "cell_type": "code",
   "execution_count": null,
   "metadata": {
    "collapsed": false
   },
   "outputs": [],
   "source": []
  },
  {
   "cell_type": "code",
   "execution_count": null,
   "metadata": {
    "collapsed": true
   },
   "outputs": [],
   "source": [
    "def is_obstacle_detected():\n",
    "    if min(p3dx.distance[3:4]) < 1:\n",
    "        return True\n",
    "    else:\n",
    "        return False"
   ]
  },
  {
   "cell_type": "markdown",
   "metadata": {},
   "source": [
    "The second function is the line following behavior as seen in previous notebooks during this week."
   ]
  },
  {
   "cell_type": "code",
   "execution_count": null,
   "metadata": {
    "collapsed": true
   },
   "outputs": [],
   "source": [
    "def follow_line():\n",
    "    width = p3dx.image.shape[1]\n",
    "    kp = 0.01\n",
    "    print('Following the line')\n",
    "    while not is_obstacle_detected():\n",
    "        cx, cy = line_centroid(p3dx.image)\n",
    "        if cx == 0:\n",
    "            p3dx.stop()\n",
    "        err = cx - width/2\n",
    "        linear = 2\n",
    "        angular = -kp*err\n",
    "        move(linear, angular)\n",
    "    print('Obstacle detected')"
   ]
  },
  {
   "cell_type": "markdown",
   "metadata": {},
   "source": [
    "The next function was developed in the previous week: the robot turns until it is approximately parallel to the wall."
   ]
  },
  {
   "cell_type": "code",
   "execution_count": null,
   "metadata": {
    "collapsed": true
   },
   "outputs": [],
   "source": [
    "MIN_WALL_THRESHOLD = 0.3\n",
    "MAX_WALL_THRESHOLD = 0.4\n",
    "DEF_X_SPEED = 0.2       # default forward velocity\n",
    "DEF_YAW_SPEED = 0.15    # default turning velocity\n",
    "\n",
    "def getWall():\n",
    " #follow with wall on right\n",
    "    rightSide, frontSide = getSonars()\n",
    "    # move forward until an obstacle is detected at the front\n",
    "    while (frontSide > MIN_WALL_THRESHOLD):      \n",
    "        move(DEF_X_SPEED,0)\n",
    "        rightSide, frontSide = getSonars()\n",
    "    while (p3dx.distance[7] > MAX_WALL_THRESHOLD):\n",
    "        if (frontSide < rightSide):\n",
    "            yawSpeed = DEF_YAW_SPEED * 3         \n",
    "        else:\n",
    "            yawSpeed =DEF_YAW_SPEED\n",
    "        move(0,yawSpeed)\n",
    "        rightSide, frontSide = getSonars()\n",
    "    move(0,0)"
   ]
  },
  {
   "cell_type": "markdown",
   "metadata": {},
   "source": [
    "The next function is checked during the wall following behavior: it must return `True` when the line is again detected, or `False` otherwise."
   ]
  },
  {
   "cell_type": "code",
   "execution_count": null,
   "metadata": {
    "collapsed": true
   },
   "outputs": [],
   "source": [
    "def is_line_detected():\n",
    "    hsv = cv2.cvtColor(p3dx.image, cv2.COLOR_RGB2HSV)\n",
    "    lower_cyan = numpy.array([80, 100, 100])\n",
    "    upper_cyan = numpy.array([100, 255, 255])\n",
    "    mask = cv2.inRange(hsv, lower_cyan, upper_cyan)\n",
    "    mask[0:80, 0:150] = 0\n",
    "    M = cv2.moments(mask)\n",
    "    if M['m00'] == 0:\n",
    "        return False\n",
    "    else:\n",
    "        return True"
   ]
  },
  {
   "cell_type": "markdown",
   "metadata": {},
   "source": [
    "Next, we reuse the wall following behavior from previous week."
   ]
  },
  {
   "cell_type": "code",
   "execution_count": null,
   "metadata": {
    "collapsed": false
   },
   "outputs": [],
   "source": [
    "def follow_wall():\n",
    "    print('Following the wall')\n",
    "    while not is_line_detected():\n",
    "        #p3dx.move(1,1)\n",
    "        if p3dx.distance[0]>0.75:\n",
    "            move(10,-10)\n",
    "        if p3dx.distance[0]<0.3:\n",
    "            move(0,-10)\n",
    "            \n",
    "        #leftSide, frontSide = getSonars()\n",
    "        # by default, just move forward\n",
    "        #xSpeed = DEF_X_SPEED\n",
    "        #yawSpeed = DEF_YAW_SPEED\n",
    "        # if we're getting too close to the wall with the front side...\n",
    "        #if frontSide < 0.5:\n",
    "            # go backward and turn right quickly (x4)\n",
    "        #    xSpeed = -DEF_X_SPEED #atras\n",
    "        #    yawSpeed = -DEF_YAW_SPEED*20 #gira\n",
    "        #else:\n",
    "            # if we're getting too close to the wall with the left side...\n",
    "            #if leftSide < 0.4:\n",
    "                # move slowly forward (x0.5) and turn right\n",
    "                #xSpeed  = DEF_X_SPEED*2\n",
    "                #yawSpeed = -DEF_YAW_SPEED*3\n",
    "            #else:\n",
    "                # if we're getting too far away from the wall with the left side...\n",
    "                #if leftSide > 1.5:\n",
    "                    # move slowly forward (x0.5) and turn left\n",
    "                    #xSpeed  = DEF_X_SPEED\n",
    "                    #yawSpeed = DEF_YAW_SPEED\n",
    "        # Move the robot\n",
    "        #move(xSpeed,yawSpeed)\n",
    "    print('Line detected')"
   ]
  },
  {
   "cell_type": "markdown",
   "metadata": {},
   "source": [
    "Finally, a function is needed for turning the robot slightly until it is approximately parallel to the line again."
   ]
  },
  {
   "cell_type": "code",
   "execution_count": null,
   "metadata": {
    "collapsed": true
   },
   "outputs": [],
   "source": [
    "def getLine():\n",
    "    while not is_line_detected:\n",
    "        move(0,-1)"
   ]
  },
  {
   "cell_type": "markdown",
   "metadata": {},
   "source": [
    "Some additional lower-level functions are required (guess which ones?).\n",
    "\n",
    "You can define them in the next empty cell."
   ]
  },
  {
   "cell_type": "code",
   "execution_count": null,
   "metadata": {
    "collapsed": true
   },
   "outputs": [],
   "source": [
    "# Lower-level functions\n",
    "def move(V_robot,w_robot):\n",
    "    r = 0.1953 / 2\n",
    "    L = 0.33\n",
    "    w_r = (2 * V_robot + L * w_robot) / (2*r)\n",
    "    w_l = (2 * V_robot - L * w_robot) / (2*r)\n",
    "    p3dx.move(w_l, w_r)\n",
    "    \n",
    "def getSonars():\n",
    "    leftSide = p3dx.distance[0]\n",
    "    frontSide = min(p3dx.distance[3:4])\n",
    "    return leftSide, frontSide\n",
    "\n",
    "def line_centroid(image):\n",
    "    hsv = cv2.cvtColor(p3dx.image, cv2.COLOR_RGB2HSV)\n",
    "    lower_cyan = numpy.array([80, 100, 100])\n",
    "    upper_cyan = numpy.array([100, 255, 255])\n",
    "    mask = cv2.inRange(hsv, lower_cyan, upper_cyan)\n",
    "    mask[0:80, 0:150] = 0\n",
    "    M = cv2.moments(mask)\n",
    "    if M[\"m00\"] != 0:\n",
    "        cx = int(M[\"m10\"] / M[\"m00\"])\n",
    "        cy = int(M[\"m01\"] / M[\"m00\"])\n",
    "    else:\n",
    "        cx, cy = 0, 0\n",
    "    axes = plt.gca()\n",
    "    axes.add_artist(plt.Circle((cx,cy),10,color='r'));\n",
    "    return cx, cy"
   ]
  },
  {
   "cell_type": "markdown",
   "metadata": {},
   "source": [
    "### Main loop\n",
    "The main loop looks very similar to the proposed algorithm:"
   ]
  },
  {
   "cell_type": "code",
   "execution_count": null,
   "metadata": {
    "collapsed": false
   },
   "outputs": [],
   "source": [
    "p3dx.tilt(-0.47)\n",
    "try:\n",
    "    while True:\n",
    "        follow_line()\n",
    "        getWall()\n",
    "        follow_wall()\n",
    "        getLine()\n",
    "except KeyboardInterrupt:\n",
    "    move(0,0)"
   ]
  },
  {
   "cell_type": "markdown",
   "metadata": {},
   "source": [
    "Did it work? Congratulations, you have completed the task of this week!"
   ]
  },
  {
   "cell_type": "markdown",
   "metadata": {},
   "source": [
    "---\n",
    "#### Try-a-Bot: an open source guide for robot programming\n",
    "Developed by:\n",
    "[![Robotic Intelligence Lab @ UJI](img/logo/robinlab.png \"Robotic Intelligence Lab @ UJI\")](http://robinlab.uji.es)\n",
    "\n",
    "Sponsored by:\n",
    "<table>\n",
    "<tr>\n",
    "<td style=\"border:1px solid #ffffff ;\">\n",
    "<a href=\"http://www.ieee-ras.org\"><img src=\"img/logo/ras.png\"></a>\n",
    "</td>\n",
    "<td style=\"border:1px solid #ffffff ;\">\n",
    "<a href=\"http://www.cyberbotics.com\"><img src=\"img/logo/cyberbotics.png\"></a>\n",
    "</td>\n",
    "<td style=\"border:1px solid #ffffff ;\">\n",
    "<a href=\"http://www.theconstructsim.com\"><img src=\"img/logo/theconstruct.png\"></a>\n",
    "</td>\n",
    "</tr>\n",
    "</table>\n",
    "\n",
    "Follow us:\n",
    "<table>\n",
    "<tr>\n",
    "<td style=\"border:1px solid #ffffff ;\">\n",
    "<a href=\"https://www.facebook.com/RobotProgrammingNetwork\"><img src=\"img/logo/facebook.png\"></a>\n",
    "</td>\n",
    "<td style=\"border:1px solid #ffffff ;\">\n",
    "<a href=\"https://www.youtube.com/user/robotprogrammingnet\"><img src=\"img/logo/youtube.png\"></a>\n",
    "</td>\n",
    "</tr>\n",
    "</table>"
   ]
  }
 ],
 "metadata": {
  "kernelspec": {
   "display_name": "Python 2",
   "language": "python",
   "name": "python2"
  },
  "language_info": {
   "codemirror_mode": {
    "name": "ipython",
    "version": 2
   },
   "file_extension": ".py",
   "mimetype": "text/x-python",
   "name": "python",
   "nbconvert_exporter": "python",
   "pygments_lexer": "ipython2",
   "version": "2.7.11"
  }
 },
 "nbformat": 4,
 "nbformat_minor": 0
}
